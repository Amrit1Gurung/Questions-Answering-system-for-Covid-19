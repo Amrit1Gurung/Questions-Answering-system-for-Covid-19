{
  "nbformat": 4,
  "nbformat_minor": 0,
  "metadata": {
    "accelerator": "GPU",
    "colab": {
      "name": "Covid-QA.ipynb",
      "provenance": [],
      "collapsed_sections": []
    },
    "kernelspec": {
      "display_name": "Python 3",
      "name": "python3"
    },
    "language_info": {
      "name": "python"
    }
  },
  "cells": [
    {
      "cell_type": "markdown",
      "metadata": {
        "id": "WMdGwlkyHilX"
      },
      "source": [
        "Beacuse this is my very first attempt into **Question Answering System**, this notebook is not the original rather i have only edited some parts and added few codes. The original notebook can be found <a href='https://www.kaggle.com/jonathanbesomi/a-qa-model-to-answer-them-all'>here</a>  \n",
        "There are many ways and frameworks for building QA system, i have used **DistilBert** for this task here. see <a href='https://programmerbackpack.com/bert-nlp-using-distilbert-to-build-a-question-answering-system/'>this</a> article for detail explanations or any articles in your convienent for this topic.  \n",
        "Also i have used earlier versionn of transformer library as latest version didnot worked for me(i could not figure out the way around)."
      ]
    },
    {
      "cell_type": "code",
      "metadata": {
        "colab": {
          "base_uri": "https://localhost:8080/"
        },
        "id": "E3YhixGFgO9J",
        "outputId": "a8056b68-45fb-4430-c122-7e585aebd115"
      },
      "source": [
        "!pip install transformers==2.8.0"
      ],
      "execution_count": null,
      "outputs": [
        {
          "output_type": "stream",
          "text": [
            "Collecting transformers==2.8.0\n",
            "\u001b[?25l  Downloading https://files.pythonhosted.org/packages/a3/78/92cedda05552398352ed9784908b834ee32a0bd071a9b32de287327370b7/transformers-2.8.0-py3-none-any.whl (563kB)\n",
            "\r\u001b[K     |▋                               | 10kB 22.2MB/s eta 0:00:01\r\u001b[K     |█▏                              | 20kB 29.6MB/s eta 0:00:01\r\u001b[K     |█▊                              | 30kB 26.3MB/s eta 0:00:01\r\u001b[K     |██▎                             | 40kB 29.6MB/s eta 0:00:01\r\u001b[K     |███                             | 51kB 23.3MB/s eta 0:00:01\r\u001b[K     |███▌                            | 61kB 25.6MB/s eta 0:00:01\r\u001b[K     |████                            | 71kB 22.6MB/s eta 0:00:01\r\u001b[K     |████▋                           | 81kB 23.9MB/s eta 0:00:01\r\u001b[K     |█████▎                          | 92kB 21.6MB/s eta 0:00:01\r\u001b[K     |█████▉                          | 102kB 22.8MB/s eta 0:00:01\r\u001b[K     |██████▍                         | 112kB 22.8MB/s eta 0:00:01\r\u001b[K     |███████                         | 122kB 22.8MB/s eta 0:00:01\r\u001b[K     |███████▋                        | 133kB 22.8MB/s eta 0:00:01\r\u001b[K     |████████▏                       | 143kB 22.8MB/s eta 0:00:01\r\u001b[K     |████████▊                       | 153kB 22.8MB/s eta 0:00:01\r\u001b[K     |█████████▎                      | 163kB 22.8MB/s eta 0:00:01\r\u001b[K     |█████████▉                      | 174kB 22.8MB/s eta 0:00:01\r\u001b[K     |██████████▌                     | 184kB 22.8MB/s eta 0:00:01\r\u001b[K     |███████████                     | 194kB 22.8MB/s eta 0:00:01\r\u001b[K     |███████████▋                    | 204kB 22.8MB/s eta 0:00:01\r\u001b[K     |████████████▏                   | 215kB 22.8MB/s eta 0:00:01\r\u001b[K     |████████████▉                   | 225kB 22.8MB/s eta 0:00:01\r\u001b[K     |█████████████▍                  | 235kB 22.8MB/s eta 0:00:01\r\u001b[K     |██████████████                  | 245kB 22.8MB/s eta 0:00:01\r\u001b[K     |██████████████▌                 | 256kB 22.8MB/s eta 0:00:01\r\u001b[K     |███████████████▏                | 266kB 22.8MB/s eta 0:00:01\r\u001b[K     |███████████████▊                | 276kB 22.8MB/s eta 0:00:01\r\u001b[K     |████████████████▎               | 286kB 22.8MB/s eta 0:00:01\r\u001b[K     |████████████████▉               | 296kB 22.8MB/s eta 0:00:01\r\u001b[K     |█████████████████▍              | 307kB 22.8MB/s eta 0:00:01\r\u001b[K     |██████████████████              | 317kB 22.8MB/s eta 0:00:01\r\u001b[K     |██████████████████▋             | 327kB 22.8MB/s eta 0:00:01\r\u001b[K     |███████████████████▏            | 337kB 22.8MB/s eta 0:00:01\r\u001b[K     |███████████████████▊            | 348kB 22.8MB/s eta 0:00:01\r\u001b[K     |████████████████████▍           | 358kB 22.8MB/s eta 0:00:01\r\u001b[K     |█████████████████████           | 368kB 22.8MB/s eta 0:00:01\r\u001b[K     |█████████████████████▌          | 378kB 22.8MB/s eta 0:00:01\r\u001b[K     |██████████████████████          | 389kB 22.8MB/s eta 0:00:01\r\u001b[K     |██████████████████████▊         | 399kB 22.8MB/s eta 0:00:01\r\u001b[K     |███████████████████████▎        | 409kB 22.8MB/s eta 0:00:01\r\u001b[K     |███████████████████████▉        | 419kB 22.8MB/s eta 0:00:01\r\u001b[K     |████████████████████████▍       | 430kB 22.8MB/s eta 0:00:01\r\u001b[K     |█████████████████████████       | 440kB 22.8MB/s eta 0:00:01\r\u001b[K     |█████████████████████████▋      | 450kB 22.8MB/s eta 0:00:01\r\u001b[K     |██████████████████████████▏     | 460kB 22.8MB/s eta 0:00:01\r\u001b[K     |██████████████████████████▊     | 471kB 22.8MB/s eta 0:00:01\r\u001b[K     |███████████████████████████▎    | 481kB 22.8MB/s eta 0:00:01\r\u001b[K     |████████████████████████████    | 491kB 22.8MB/s eta 0:00:01\r\u001b[K     |████████████████████████████▌   | 501kB 22.8MB/s eta 0:00:01\r\u001b[K     |█████████████████████████████   | 512kB 22.8MB/s eta 0:00:01\r\u001b[K     |█████████████████████████████▋  | 522kB 22.8MB/s eta 0:00:01\r\u001b[K     |██████████████████████████████▎ | 532kB 22.8MB/s eta 0:00:01\r\u001b[K     |██████████████████████████████▉ | 542kB 22.8MB/s eta 0:00:01\r\u001b[K     |███████████████████████████████▍| 552kB 22.8MB/s eta 0:00:01\r\u001b[K     |████████████████████████████████| 563kB 22.8MB/s eta 0:00:01\r\u001b[K     |████████████████████████████████| 573kB 22.8MB/s \n",
            "\u001b[?25hRequirement already satisfied: numpy in /usr/local/lib/python3.7/dist-packages (from transformers==2.8.0) (1.19.5)\n",
            "Collecting boto3\n",
            "\u001b[?25l  Downloading https://files.pythonhosted.org/packages/af/00/4c6c83799fe8f563f31e921050ee306051b5935469499a696a14ebfb0e02/boto3-1.17.73-py2.py3-none-any.whl (131kB)\n",
            "\u001b[K     |████████████████████████████████| 133kB 51.5MB/s \n",
            "\u001b[?25hCollecting sacremoses\n",
            "\u001b[?25l  Downloading https://files.pythonhosted.org/packages/75/ee/67241dc87f266093c533a2d4d3d69438e57d7a90abb216fa076e7d475d4a/sacremoses-0.0.45-py3-none-any.whl (895kB)\n",
            "\u001b[K     |████████████████████████████████| 901kB 45.1MB/s \n",
            "\u001b[?25hRequirement already satisfied: requests in /usr/local/lib/python3.7/dist-packages (from transformers==2.8.0) (2.23.0)\n",
            "Requirement already satisfied: filelock in /usr/local/lib/python3.7/dist-packages (from transformers==2.8.0) (3.0.12)\n",
            "Requirement already satisfied: tqdm>=4.27 in /usr/local/lib/python3.7/dist-packages (from transformers==2.8.0) (4.41.1)\n",
            "Collecting sentencepiece\n",
            "\u001b[?25l  Downloading https://files.pythonhosted.org/packages/f5/99/e0808cb947ba10f575839c43e8fafc9cc44e4a7a2c8f79c60db48220a577/sentencepiece-0.1.95-cp37-cp37m-manylinux2014_x86_64.whl (1.2MB)\n",
            "\u001b[K     |████████████████████████████████| 1.2MB 46.0MB/s \n",
            "\u001b[?25hRequirement already satisfied: regex!=2019.12.17 in /usr/local/lib/python3.7/dist-packages (from transformers==2.8.0) (2019.12.20)\n",
            "Collecting tokenizers==0.5.2\n",
            "\u001b[?25l  Downloading https://files.pythonhosted.org/packages/d6/e3/5e49e9a83fb605aaa34a1c1173e607302fecae529428c28696fb18f1c2c9/tokenizers-0.5.2-cp37-cp37m-manylinux1_x86_64.whl (5.6MB)\n",
            "\u001b[K     |████████████████████████████████| 5.6MB 51.7MB/s \n",
            "\u001b[?25hCollecting botocore<1.21.0,>=1.20.73\n",
            "\u001b[?25l  Downloading https://files.pythonhosted.org/packages/0b/0b/3af8d5c26c2e2c305a08db0ab564081c0dc3b85b41d0b795055200d4215e/botocore-1.20.73-py2.py3-none-any.whl (7.5MB)\n",
            "\u001b[K     |████████████████████████████████| 7.5MB 32.8MB/s \n",
            "\u001b[?25hCollecting s3transfer<0.5.0,>=0.4.0\n",
            "\u001b[?25l  Downloading https://files.pythonhosted.org/packages/63/d0/693477c688348654ddc21dcdce0817653a294aa43f41771084c25e7ff9c7/s3transfer-0.4.2-py2.py3-none-any.whl (79kB)\n",
            "\u001b[K     |████████████████████████████████| 81kB 11.7MB/s \n",
            "\u001b[?25hCollecting jmespath<1.0.0,>=0.7.1\n",
            "  Downloading https://files.pythonhosted.org/packages/07/cb/5f001272b6faeb23c1c9e0acc04d48eaaf5c862c17709d20e3469c6e0139/jmespath-0.10.0-py2.py3-none-any.whl\n",
            "Requirement already satisfied: click in /usr/local/lib/python3.7/dist-packages (from sacremoses->transformers==2.8.0) (8.0.0)\n",
            "Requirement already satisfied: six in /usr/local/lib/python3.7/dist-packages (from sacremoses->transformers==2.8.0) (1.15.0)\n",
            "Requirement already satisfied: joblib in /usr/local/lib/python3.7/dist-packages (from sacremoses->transformers==2.8.0) (1.0.1)\n",
            "Requirement already satisfied: certifi>=2017.4.17 in /usr/local/lib/python3.7/dist-packages (from requests->transformers==2.8.0) (2020.12.5)\n",
            "Requirement already satisfied: idna<3,>=2.5 in /usr/local/lib/python3.7/dist-packages (from requests->transformers==2.8.0) (2.10)\n",
            "Requirement already satisfied: chardet<4,>=3.0.2 in /usr/local/lib/python3.7/dist-packages (from requests->transformers==2.8.0) (3.0.4)\n",
            "Requirement already satisfied: urllib3!=1.25.0,!=1.25.1,<1.26,>=1.21.1 in /usr/local/lib/python3.7/dist-packages (from requests->transformers==2.8.0) (1.24.3)\n",
            "Requirement already satisfied: python-dateutil<3.0.0,>=2.1 in /usr/local/lib/python3.7/dist-packages (from botocore<1.21.0,>=1.20.73->boto3->transformers==2.8.0) (2.8.1)\n",
            "\u001b[31mERROR: botocore 1.20.73 has requirement urllib3<1.27,>=1.25.4, but you'll have urllib3 1.24.3 which is incompatible.\u001b[0m\n",
            "Installing collected packages: jmespath, botocore, s3transfer, boto3, sacremoses, sentencepiece, tokenizers, transformers\n",
            "Successfully installed boto3-1.17.73 botocore-1.20.73 jmespath-0.10.0 s3transfer-0.4.2 sacremoses-0.0.45 sentencepiece-0.1.95 tokenizers-0.5.2 transformers-2.8.0\n"
          ],
          "name": "stdout"
        }
      ]
    },
    {
      "cell_type": "code",
      "metadata": {
        "id": "CE1dtVnxhXYL"
      },
      "source": [
        "!pip install rank_bm25 -q"
      ],
      "execution_count": null,
      "outputs": []
    },
    {
      "cell_type": "code",
      "metadata": {
        "colab": {
          "base_uri": "https://localhost:8080/"
        },
        "id": "UhDsEiS2gYec",
        "outputId": "6eb66b1c-8038-4dbc-a486-cbf28ceb0ec3"
      },
      "source": [
        "import nltk\n",
        "nltk.download('stopwords')\n",
        "nltk.download('punkt')"
      ],
      "execution_count": null,
      "outputs": [
        {
          "output_type": "stream",
          "text": [
            "[nltk_data] Downloading package stopwords to /root/nltk_data...\n",
            "[nltk_data]   Unzipping corpora/stopwords.zip.\n",
            "[nltk_data] Downloading package punkt to /root/nltk_data...\n",
            "[nltk_data]   Unzipping tokenizers/punkt.zip.\n"
          ],
          "name": "stdout"
        },
        {
          "output_type": "execute_result",
          "data": {
            "text/plain": [
              "True"
            ]
          },
          "metadata": {
            "tags": []
          },
          "execution_count": 3
        }
      ]
    },
    {
      "cell_type": "code",
      "metadata": {
        "id": "jHEF_LS8WfCN"
      },
      "source": [
        "import pandas as pd\n",
        "import numpy as np\n",
        "import os \n",
        "import nltk\n",
        "from nltk.corpus import stopwords\n",
        "from nltk.tokenize import word_tokenize, sent_tokenize\n",
        "import string\n",
        "import re\n",
        "import json\n",
        "import pickle\n",
        "import glob\n",
        "import torch\n",
        "from transformers import BertTokenizer\n",
        "from transformers import BertForQuestionAnswering\n",
        "from rank_bm25 import BM25Okapi # Search engine\n",
        "\n",
        "#import logging\n",
        "#logging.basicConfig(format='%(asctime)s : %(levelname)s : %(message)s', level=logging.ERROR)\n",
        "#import warnings\n",
        "#warnings.filterwarnings(\"ignore\")\n",
        "\n",
        "pd.set_option('mode.chained_assignment',None)"
      ],
      "execution_count": null,
      "outputs": []
    },
    {
      "cell_type": "code",
      "metadata": {
        "id": "uKN9LmTshzXw"
      },
      "source": [
        "# use this in colab to access project directory\n",
        "#os.chdir('/content/drive/MyDrive/programs/Datasets/CORD-19 Challenge') # project folder"
      ],
      "execution_count": null,
      "outputs": []
    },
    {
      "cell_type": "code",
      "metadata": {
        "colab": {
          "base_uri": "https://localhost:8080/",
          "height": 408
        },
        "id": "G7K--jergsXV",
        "outputId": "30197f5c-986a-479b-ebfd-3216e6204879"
      },
      "source": [
        "#load data\n",
        "data = pd.read_csv('data/metadata.csv', low_memory=False)\n",
        "print(data.shape)\n",
        "data.head(3)"
      ],
      "execution_count": null,
      "outputs": [
        {
          "output_type": "stream",
          "text": [
            "(536817, 19)\n"
          ],
          "name": "stdout"
        },
        {
          "output_type": "execute_result",
          "data": {
            "text/html": [
              "<div>\n",
              "<style scoped>\n",
              "    .dataframe tbody tr th:only-of-type {\n",
              "        vertical-align: middle;\n",
              "    }\n",
              "\n",
              "    .dataframe tbody tr th {\n",
              "        vertical-align: top;\n",
              "    }\n",
              "\n",
              "    .dataframe thead th {\n",
              "        text-align: right;\n",
              "    }\n",
              "</style>\n",
              "<table border=\"1\" class=\"dataframe\">\n",
              "  <thead>\n",
              "    <tr style=\"text-align: right;\">\n",
              "      <th></th>\n",
              "      <th>cord_uid</th>\n",
              "      <th>sha</th>\n",
              "      <th>source_x</th>\n",
              "      <th>title</th>\n",
              "      <th>doi</th>\n",
              "      <th>pmcid</th>\n",
              "      <th>pubmed_id</th>\n",
              "      <th>license</th>\n",
              "      <th>abstract</th>\n",
              "      <th>publish_time</th>\n",
              "      <th>authors</th>\n",
              "      <th>journal</th>\n",
              "      <th>mag_id</th>\n",
              "      <th>who_covidence_id</th>\n",
              "      <th>arxiv_id</th>\n",
              "      <th>pdf_json_files</th>\n",
              "      <th>pmc_json_files</th>\n",
              "      <th>url</th>\n",
              "      <th>s2_id</th>\n",
              "    </tr>\n",
              "  </thead>\n",
              "  <tbody>\n",
              "    <tr>\n",
              "      <th>0</th>\n",
              "      <td>ug7v899j</td>\n",
              "      <td>d1aafb70c066a2068b02786f8929fd9c900897fb</td>\n",
              "      <td>PMC</td>\n",
              "      <td>Clinical features of culture-proven Mycoplasma...</td>\n",
              "      <td>10.1186/1471-2334-1-6</td>\n",
              "      <td>PMC35282</td>\n",
              "      <td>11472636</td>\n",
              "      <td>no-cc</td>\n",
              "      <td>OBJECTIVE: This retrospective chart review des...</td>\n",
              "      <td>2001-07-04</td>\n",
              "      <td>Madani, Tariq A; Al-Ghamdi, Aisha A</td>\n",
              "      <td>BMC Infect Dis</td>\n",
              "      <td>NaN</td>\n",
              "      <td>NaN</td>\n",
              "      <td>NaN</td>\n",
              "      <td>document_parses/pdf_json/d1aafb70c066a2068b027...</td>\n",
              "      <td>document_parses/pmc_json/PMC35282.xml.json</td>\n",
              "      <td>https://www.ncbi.nlm.nih.gov/pmc/articles/PMC3...</td>\n",
              "      <td>NaN</td>\n",
              "    </tr>\n",
              "    <tr>\n",
              "      <th>1</th>\n",
              "      <td>02tnwd4m</td>\n",
              "      <td>6b0567729c2143a66d737eb0a2f63f2dce2e5a7d</td>\n",
              "      <td>PMC</td>\n",
              "      <td>Nitric oxide: a pro-inflammatory mediator in l...</td>\n",
              "      <td>10.1186/rr14</td>\n",
              "      <td>PMC59543</td>\n",
              "      <td>11667967</td>\n",
              "      <td>no-cc</td>\n",
              "      <td>Inflammatory diseases of the respiratory tract...</td>\n",
              "      <td>2000-08-15</td>\n",
              "      <td>Vliet, Albert van der; Eiserich, Jason P; Cros...</td>\n",
              "      <td>Respir Res</td>\n",
              "      <td>NaN</td>\n",
              "      <td>NaN</td>\n",
              "      <td>NaN</td>\n",
              "      <td>document_parses/pdf_json/6b0567729c2143a66d737...</td>\n",
              "      <td>document_parses/pmc_json/PMC59543.xml.json</td>\n",
              "      <td>https://www.ncbi.nlm.nih.gov/pmc/articles/PMC5...</td>\n",
              "      <td>NaN</td>\n",
              "    </tr>\n",
              "    <tr>\n",
              "      <th>2</th>\n",
              "      <td>ejv2xln0</td>\n",
              "      <td>06ced00a5fc04215949aa72528f2eeaae1d58927</td>\n",
              "      <td>PMC</td>\n",
              "      <td>Surfactant protein-D and pulmonary host defense</td>\n",
              "      <td>10.1186/rr19</td>\n",
              "      <td>PMC59549</td>\n",
              "      <td>11667972</td>\n",
              "      <td>no-cc</td>\n",
              "      <td>Surfactant protein-D (SP-D) participates in th...</td>\n",
              "      <td>2000-08-25</td>\n",
              "      <td>Crouch, Erika C</td>\n",
              "      <td>Respir Res</td>\n",
              "      <td>NaN</td>\n",
              "      <td>NaN</td>\n",
              "      <td>NaN</td>\n",
              "      <td>document_parses/pdf_json/06ced00a5fc04215949aa...</td>\n",
              "      <td>document_parses/pmc_json/PMC59549.xml.json</td>\n",
              "      <td>https://www.ncbi.nlm.nih.gov/pmc/articles/PMC5...</td>\n",
              "      <td>NaN</td>\n",
              "    </tr>\n",
              "  </tbody>\n",
              "</table>\n",
              "</div>"
            ],
            "text/plain": [
              "   cord_uid  ... s2_id\n",
              "0  ug7v899j  ...   NaN\n",
              "1  02tnwd4m  ...   NaN\n",
              "2  ejv2xln0  ...   NaN\n",
              "\n",
              "[3 rows x 19 columns]"
            ]
          },
          "metadata": {
            "tags": []
          },
          "execution_count": 4
        }
      ]
    },
    {
      "cell_type": "code",
      "metadata": {
        "id": "cJLewVmciY35"
      },
      "source": [
        "#data.isna().sum()"
      ],
      "execution_count": null,
      "outputs": []
    },
    {
      "cell_type": "code",
      "metadata": {
        "colab": {
          "base_uri": "https://localhost:8080/"
        },
        "id": "fEUHvMBDjlAl",
        "outputId": "8898a92e-9086-47b6-88c8-287fbc0eab40"
      },
      "source": [
        "data = data.dropna(subset=['abstract','title'])\n",
        "data.drop_duplicates(subset=['title','abstract'],inplace=True)\n",
        "data = data.reset_index()\n",
        "data.shape"
      ],
      "execution_count": null,
      "outputs": [
        {
          "output_type": "execute_result",
          "data": {
            "text/plain": [
              "(363206, 20)"
            ]
          },
          "metadata": {
            "tags": []
          },
          "execution_count": 6
        }
      ]
    },
    {
      "cell_type": "code",
      "metadata": {
        "colab": {
          "base_uri": "https://localhost:8080/"
        },
        "id": "vt-_VNKukKv8",
        "outputId": "32425a50-f519-43cc-d537-cea6fa751e5b"
      },
      "source": [
        "data.isna().sum()"
      ],
      "execution_count": null,
      "outputs": [
        {
          "output_type": "execute_result",
          "data": {
            "text/plain": [
              "index                    0\n",
              "cord_uid                 0\n",
              "sha                 225757\n",
              "source_x                 0\n",
              "title                    0\n",
              "doi                 151942\n",
              "pmcid               233729\n",
              "pubmed_id           179902\n",
              "license                  0\n",
              "abstract                 0\n",
              "publish_time           197\n",
              "authors               2903\n",
              "journal              29360\n",
              "mag_id              363206\n",
              "who_covidence_id    226900\n",
              "arxiv_id            356338\n",
              "pdf_json_files      225757\n",
              "pmc_json_files      255211\n",
              "url                 134722\n",
              "s2_id                31895\n",
              "dtype: int64"
            ]
          },
          "metadata": {
            "tags": []
          },
          "execution_count": 7
        }
      ]
    },
    {
      "cell_type": "code",
      "metadata": {
        "id": "P19s59eEkbOZ"
      },
      "source": [
        "stop_words = set(stopwords.words('english'))\n",
        "# function to preprocess and remove stopwords\n",
        "def preprocess(text):\n",
        "  no_stops = []\n",
        "  sent = text.lower()\n",
        "  sent = re.sub(r\"[^a-zA-Z]\",\" \",sent)    # removes all characters except alphabets\n",
        "  sent = re.sub(r'\\s+', ' ', sent)       # removes extra white spaces\n",
        "  #sent = str(text)\n",
        "  for w in sent.split():\n",
        "    if not w in stop_words:\n",
        "      if len(w)>1 and not w.isnumeric():\n",
        "        no_stops.append(w)\n",
        "  return no_stops"
      ],
      "execution_count": null,
      "outputs": []
    },
    {
      "cell_type": "code",
      "metadata": {
        "id": "ijx_pU9wt7Wu"
      },
      "source": [
        "# nothing special here. we just take two columns we need; title and abstract than we join them and do preprocessing and find bm25 \n",
        "def init(data):\n",
        "  df = data.copy()\n",
        "  df = data[['title','abstract']]\n",
        "  df['title_abstract'] = data.abstract + \" \" + df.title\n",
        "  df['title_abstract'] = df['title_abstract'].apply(lambda x: preprocess(x))\n",
        "  bm25 = BM25Okapi(df.title_abstract.tolist())\n",
        "  return bm25, df\n",
        "\n",
        "#bm25, df_new = init(data)"
      ],
      "execution_count": null,
      "outputs": []
    },
    {
      "cell_type": "code",
      "metadata": {
        "id": "cnq-oAnawVYm"
      },
      "source": [
        "# for a given query find its best contexts. here we will consider top 10 contexts from dataframe of over 300k absctracts for each query\n",
        "def searchContext(query,bm25, df_new, num):\n",
        "  \"\"\"\n",
        "  Return top `num` results that better match the query\n",
        "  \"\"\"\n",
        "  # obtain scores\n",
        "  search_terms = preprocess(query) \n",
        "  doc_scores = bm25.get_scores(search_terms)\n",
        "        \n",
        "  # sort by scores\n",
        "  ind = np.argsort(doc_scores)[::-1][:num] \n",
        "        \n",
        "  # select top results and returns\n",
        "  results = df_new.iloc[ind][df_new.columns]\n",
        "  results['score'] = doc_scores[ind]\n",
        "  results = results[results.score > 0]\n",
        "  return results.reset_index()"
      ],
      "execution_count": null,
      "outputs": []
    },
    {
      "cell_type": "code",
      "metadata": {
        "id": "oaNSJ9kxOS-F"
      },
      "source": [
        "# if gpu is available use that else use cpu\n",
        "torch_device = 'cuda' if torch.cuda.is_available() else 'cpu'\n",
        "\n",
        "model = BertForQuestionAnswering.from_pretrained('bert-large-uncased-whole-word-masking-finetuned-squad')\n",
        "tokenizer = BertTokenizer.from_pretrained('bert-large-uncased-whole-word-masking-finetuned-squad')\n",
        "model = model.to(torch_device)\n",
        "\n",
        "# given a questions and corresponding contexts, find the answer.\n",
        "def AnswerQuestions(question, context):\n",
        "  # anser question given question and context\n",
        "  encoded_dict = tokenizer.encode_plus(\n",
        "                        question, context,\n",
        "                        add_special_tokens = True,\n",
        "                        max_length = 256,\n",
        "                        pad_to_max_length = True,\n",
        "                        return_tensors = 'pt'\n",
        "                   )\n",
        "    \n",
        "  input_ids = encoded_dict['input_ids'].to(torch_device)\n",
        "  token_type_ids = encoded_dict['token_type_ids'].to(torch_device)\n",
        "    \n",
        "  start_scores, end_scores = model(input_ids, token_type_ids=token_type_ids)\n",
        "\n",
        "  all_tokens = tokenizer.convert_ids_to_tokens(input_ids[0])\n",
        "  start_index = torch.argmax(start_scores)\n",
        "  end_index = torch.argmax(end_scores)\n",
        "    \n",
        "  answer = tokenizer.convert_tokens_to_string(all_tokens[start_index:end_index+1])\n",
        "  answer = answer.replace('[CLS]', '')\n",
        "  return answer"
      ],
      "execution_count": null,
      "outputs": []
    },
    {
      "cell_type": "code",
      "metadata": {
        "id": "udP1VbD4dLag"
      },
      "source": [
        "bm25, df = init(data)\n",
        "with open('saved/bm25.pkl','wb') as file:\n",
        "  pickle.dump(bm25,file)"
      ],
      "execution_count": null,
      "outputs": []
    },
    {
      "cell_type": "code",
      "metadata": {
        "id": "JEjuVBc-I4OD"
      },
      "source": [
        "num_contexts = 10\n",
        "def obtain_all_contexts(query,num):\n",
        "  context_df = searchContext(query,bm25,df, num_contexts)\n",
        "  return context_df.abstract.to_list()\n",
        "\n",
        "def obtain_all_answers(query, all_contexts):\n",
        "  all_Answers = []\n",
        "  for context in all_contexts:\n",
        "    all_Answers.append(AnswerQuestions(query,context))\n",
        "  return all_Answers\n",
        "\n",
        "def getResult(query):\n",
        "  all_contexts = obtain_all_contexts(query,num_contexts)\n",
        "  all_answers = obtain_all_answers(query,all_contexts)\n",
        "  return all_answers\n"
      ],
      "execution_count": null,
      "outputs": []
    },
    {
      "cell_type": "code",
      "metadata": {
        "id": "ItAQKbO7t7fz"
      },
      "source": [
        "def answers(tasks):\n",
        "  ALL_ANSWERS = []\n",
        "  All_Questions = []\n",
        "  for task in tasks:\n",
        "    for question in task:\n",
        "      Answers = getResult(question)\n",
        "      Answers = list(set(Answers))\n",
        "      ALL_ANSWERS.append(Answers)\n",
        "      All_Questions.append(question)\n",
        "      print('Query:',question)\n",
        "      print('Answers: ')\n",
        "      for i, ans in enumerate(Answers):\n",
        "        i = i+1\n",
        "        print(str(i)+')',ans)\n",
        "      print('\\n******************************************************************************************************************\\n')  "
      ],
      "execution_count": null,
      "outputs": []
    },
    {
      "cell_type": "code",
      "metadata": {
        "id": "M9Htgr4coJz2"
      },
      "source": [
        "# questions to be annswered\n",
        "\n",
        "task1 = [\n",
        "         \"Is the virus transmitted by aerisol, droplets, food, close contact, fecal matter, or water?\",\n",
        "         \"How long is the incubation period for the virus?\",\n",
        "         \"Can the virus be transmitted asymptomatically or during the incubation period?\",\n",
        "         \"How does weather, heat, and humidity affect the tramsmission of 2019-nCoV?\",\n",
        "         \"How long can the 2019-nCoV virus remain viable on common surfaces?\"\n",
        "        ]\n",
        "    \n",
        "task2 =     [\n",
        "                  \"What risk factors contribute to the severity of 2019-nCoV?\",\n",
        "                  \"How does hypertension affect patients?\",\n",
        "                  \"How does heart disease affect patients?\",\n",
        "                  \"How does copd affect patients?\",\n",
        "                  \"How does smoking affect patients?\",\n",
        "                  \"How does pregnancy affect patients?\",\n",
        "                  \"What is the fatality rate of 2019-nCoV?\",\n",
        "                  \"What public health policies prevent or control the spread of 2019-nCoV?\"\n",
        "              ]\n",
        "\n",
        "task3 =      [\n",
        "                  \"Can animals transmit 2019-nCoV?\",\n",
        "                  \"What animal did 2019-nCoV come from?\",\n",
        "                  \"What real-time genomic tracking tools exist?\",\n",
        "                  \"What geographic variations are there in the genome of 2019-nCoV?\",\n",
        "                  \"What effors are being done in asia to prevent further outbreaks?\"\n",
        "              ]\n",
        "\n",
        "task4 =       [\n",
        "                  \"What drugs or therapies are being investigated?\",\n",
        "                  \"Are anti-inflammatory drugs recommended?\"\n",
        "              ]\n",
        "\n",
        "task5 =       [\n",
        "                  \"Which non-pharmaceutical interventions limit tramsission?\",\n",
        "                  \"What are most important barriers to compliance?\"\n",
        "              ]\n",
        "\n",
        "task6 =       [\n",
        "                  \"How does extracorporeal membrane oxygenation affect 2019-nCoV patients?\",\n",
        "                  \"What telemedicine and cybercare methods are most effective?\",\n",
        "                  \"How is artificial intelligence being used in real time health delivery?\",\n",
        "                  \"What adjunctive or supportive methods can help patients?\"\n",
        "              ]\n",
        "\n",
        "task7 =       [\n",
        "                  \"What diagnostic tests (tools) exist or are being developed to detect 2019-nCoV?\"\n",
        "              ]\n",
        "\n",
        "task8 =       [\n",
        "                  \"What is the immune system response to 2019-nCoV?\",\n",
        "                  \"Can personal protective equipment prevent the transmission of 2019-nCoV?\",\n",
        "                  \"Can 2019-nCoV infect patients a second time?\"\n",
        "              ]"
      ],
      "execution_count": null,
      "outputs": []
    },
    {
      "cell_type": "code",
      "metadata": {
        "colab": {
          "base_uri": "https://localhost:8080/"
        },
        "id": "hgot8lZZ9QHc",
        "outputId": "87ce6197-248b-4170-954c-80160e93b39c"
      },
      "source": [
        "%%time\n",
        "tasks = [task1, task2, task3, task4, task5, task6, task7, task8]\n",
        "result = answers(tasks)"
      ],
      "execution_count": null,
      "outputs": [
        {
          "output_type": "stream",
          "text": [
            "Query: Is the virus transmitted by aerisol, droplets, food, close contact, fecal matter, or water?\n",
            "Answers: \n",
            "1) it can be transmitted via the fecal - oral / ocular route\n",
            "2) air\n",
            "3) viruses are often transmitted via food and the environment\n",
            "4) virus transmission by the airborne route may be both direct and indirect inhalation of infectious droplets or through contact with contaminated fomites\n",
            "5) either by person - to - person contact or by ingestion of contaminated food or water\n",
            "6) the virus has high transmissibility and is rapidly transmitted to people through close contact and droplets from coughing , sneezing and talking loudly , as well as through contact with contaminated objects\n",
            "7) droplets\n",
            "\n",
            "******************************************************************************************************************\n",
            "\n",
            "Query: How long is the incubation period for the virus?\n",
            "Answers: \n",
            "1) 5 . 8 days\n",
            "2) 2 - 14 days\n",
            "3) before the onset of symptoms\n",
            "4) 2 days\n",
            "5) 6 . 2\n",
            "6) 5 . 894 days\n",
            "7) long\n",
            "8) 2 – 14 days\n",
            "\n",
            "******************************************************************************************************************\n",
            "\n",
            "Query: Can the virus be transmitted asymptomatically or during the incubation period?\n",
            "Answers: \n",
            "1) \n",
            "2) asymptomatic\n",
            "3) incubation period\n",
            "4) the virus is transmitted via the droplet and contact route\n",
            "5) incubation period of covid - 19 among locally transmitted\n",
            "6) inhalation or contact with infected droplets\n",
            "\n",
            "******************************************************************************************************************\n",
            "\n",
            "Query: How does weather, heat, and humidity affect the tramsmission of 2019-nCoV?\n",
            "Answers: \n",
            "1) may facilitate 2019 - ncov transmission\n",
            "2) evaporation , heat transfer and kinematics under different temperature , humidity and ventilation conditions . the transmitting pathway of covid - 19 through respiratory droplets is divided into short - range droplet contacts and long - range aerosol exposure . we show that the effect of weather conditions is not monotonic : low temperature and high humidity facilitate droplet contact transmission\n",
            "3) incidence and mortality\n",
            "4) approximately 85 % of the covid - 19 reported cases until 1 may 2020 , making approximately 3 million reported cases ( out of approximately 29 million tests performed ) have occurred in regions with temperature between 3 and 17 °c and absolute humidity between 1 and 9 g / m3 . similarly , hot and humid regions outside these ranges have only reported around 15 % or approximately 0 . 5 million cases ( out of approximately 7 million tests performed ) . this suggests that weather might be playing a role in covid - 19 spread across the world . however , this role could be limited in us and european cities ( above 45 n ) , as mean temperature and absolute humidity levels do not reach these ranges even during the peak summer months\n",
            "5) daily basis incidence and mortality\n",
            "6) do not reach these ranges even during the peak summer months\n",
            "\n",
            "******************************************************************************************************************\n",
            "\n",
            "Query: How long can the 2019-nCoV virus remain viable on common surfaces?\n",
            "Answers: \n",
            "1) 28 days\n",
            "2) nine days\n",
            "3) longer duration\n",
            "4) 7 days\n",
            "5) 24 h\n",
            "6) long duration\n",
            "7) 124 and 113 hours\n",
            "\n",
            "******************************************************************************************************************\n",
            "\n",
            "Query: What risk factors contribute to the severity of 2019-nCoV?\n",
            "Answers: \n",
            "1) \n",
            "2) environmental conditions ( humidity and temperature ) , air pollution , and human activities\n",
            "3) a predisposing genetic background\n",
            "4) interventions and intensity\n",
            "5) eye secretions and tears\n",
            "6) old age , diabetes mellitus , cerebrovascular disease , chronic obstructive pulmonary disease ( copd ) , malignancy , and renal replacement therapy\n",
            "7) effective cd8 + t cell response\n",
            "\n",
            "******************************************************************************************************************\n",
            "\n",
            "Query: How does hypertension affect patients?\n",
            "Answers: \n",
            "1) changes in liver function and portal hypertension parameters\n",
            "2) disproportionately\n",
            "3) outcome in covid ‐ 19 patients is not clear\n",
            "4) outcome in covid - 19 patients is not clear\n",
            "5) more likely to worsen\n",
            "6) worse prognosis\n",
            "7) stabilize or improve renal function\n",
            "8) disproportionately affect minority communities\n",
            "\n",
            "******************************************************************************************************************\n",
            "\n",
            "Query: How does heart disease affect patients?\n",
            "Answers: \n",
            "1) \n",
            "2) patients with pre - existing cardiovascular disease are at higher risk of morbidity and mortality\n",
            "3) more likely to worsen\n",
            "4) higher risk of morbidity and mortality\n",
            "5) different clinical presentations\n",
            "\n",
            "******************************************************************************************************************\n",
            "\n",
            "Query: How does copd affect patients?\n",
            "Answers: \n",
            "1) \n",
            "2) medication availability and healthcare utilization\n",
            "3) vaccination rates\n",
            "4) changes in airway bacterial load and the clinical features and inflammatory responses of exacerbations\n",
            "5) expression levels of prrs in airway inflammatory cells are expected to affect susceptibility to copd exacerbation\n",
            "6) depression , anxiety , and stress\n",
            "7) improved outcomes\n",
            "8) chronic inflammation of the airways\n",
            "9) protein and mrna expression of sars - cov - 2 entry receptor ace2 and proteinase tmprss2 in lungs\n",
            "\n",
            "******************************************************************************************************************\n",
            "\n",
            "Query: How does smoking affect patients?\n",
            "Answers: \n",
            "1) \n",
            "2) the effects of smoking on outcomes of aneurysm with flow - diverter treatment remain unknown\n",
            "3) smoking was significantly associated with the risk of admission to intensive care unit ( icu )\n",
            "4) sars - cov - 2 infection rate\n",
            "5) discouraging smoking and vaping . methods : participants were a national convenience sample of 810 us adults recruited online in may 2020 . all participated in a smoking message experiment and a vaping message experiment , presented in a random order . in each experiment , participants viewed one message formatted as a twitter post . the experiments adopted a 3 ( traditional health harms of smoking or vaping : three harms , one harm , absent ) × 2 ( covid - 19 harms : one harm , absent ) between - subjects design . outcomes included perceived message effectiveness ( primary ) and constructs from the tobacco warnings model ( secondary : attention , negative affect , cognitive elaboration , social interactions ) . results : smoking messages with traditional or covid - 19 harms elicited higher perceived effectiveness for discouraging smoking\n",
            "6) markedly under - represented\n",
            "7) some have increased their smoking , while others decreased it\n",
            "8) decreased it\n",
            "\n",
            "******************************************************************************************************************\n",
            "\n",
            "Query: How does pregnancy affect patients?\n",
            "Answers: \n",
            "1) \n",
            "2) clinical course\n",
            "3) physiological changes and drug compliance during pregnancy can affect asthma control in varying degrees\n",
            "4) [SEP]\n",
            "5) the well - being of a newborn\n",
            "6) efficacy and immunogenicity of vaccines\n",
            "7) developmental delay to hydrocephalus and seizures\n",
            "8) pregnancy and childbirth will also be affected\n",
            "\n",
            "******************************************************************************************************************\n",
            "\n",
            "Query: What is the fatality rate of 2019-nCoV?\n",
            "Answers: \n",
            "1) 0 . 3 % to 0 . 6 %\n",
            "2) \n",
            "3) 4 . 3 %\n",
            "4) 10 . 87 %\n",
            "5) sars\n",
            "6)  what is the fatality rate of 2019 - ncov ? [SEP]\n",
            "7) 2 . 7 %\n",
            "8) newly emerged novel - coronavirus\n",
            "9) lower than other reported countries in the world\n",
            "\n",
            "******************************************************************************************************************\n",
            "\n",
            "Query: What public health policies prevent or control the spread of 2019-nCoV?\n",
            "Answers: \n",
            "1) screening and containment strategies\n",
            "2) centers for disease control and prevention\n",
            "3) monoclonal antibodies , peptides , vaccines , small - molecule drugs and interferon therapies\n",
            "4) full - scale border control measures\n",
            "5) monoclonal antibodies , peptides , vaccines , small ‐ molecule drugs and interferon therapies\n",
            "6) ban on wildlife trade and avoiding unnecessary traveling\n",
            "7) social distancing , janata curfew , strict lockdowns , screening door to door\n",
            "8) prevention and control measures\n",
            "9)  what public health policies prevent or control the spread of 2019 - ncov ? [SEP]\n",
            "\n",
            "******************************************************************************************************************\n",
            "\n",
            "Query: Can animals transmit 2019-nCoV?\n",
            "Answers: \n",
            "1) does not readily transmit between humans\n",
            "2) homologous recombination may occur and contribute to the 2019 ‐ ncov cross ‐ species transmission\n",
            "3) homologous recombination may occur and contribute to the 2019 - ncov cross - species transmission\n",
            "4) adenovirus - vectored vaccine chadox1 ncov - 19 , encoding the spike protein of sars - cov - 2 , is immunogenic\n",
            "5) patients in the incubation period could potentially transmit the virus to other persons\n",
            "6) no pneumonia was observed in vaccinated animals\n",
            "7) ability to transmit\n",
            "8) viruses\n",
            "9)  can animals transmit 2019 - ncov ? [SEP]\n",
            "\n",
            "******************************************************************************************************************\n",
            "\n",
            "Query: What animal did 2019-nCoV come from?\n",
            "Answers: \n",
            "1) chinese rhesus macaques\n",
            "2) beta coronavirus belongs to one of four coronavirus genera\n",
            "3) covid\n",
            "4) wuhan , china\n",
            "5) bats\n",
            "6) chinese\n",
            "7) animal models\n",
            "\n",
            "******************************************************************************************************************\n",
            "\n",
            "Query: What real-time genomic tracking tools exist?\n",
            "Answers: \n",
            "1) \n",
            "2) audio data is generated in real time from a variety of rna motifs that are known to be important in the functioning of rna additionally , metadata relating to rna translation and transcription has been used to shape the auditory and visual displays\n",
            "3) rapid diagnosis and real - time tracking\n",
            "4) audio data is generated in real time from a variety of rna motifs that are known to be important in the functioning of rna . additionally , metadata relating to rna translation and transcription has been used to shape the auditory and visual displays\n",
            "5) next - generation sequencing in cancer pharmacogenomics , in the diagnosis of rare disorders , and in the tracking of infectious disease outbreaks\n",
            "6) database tools\n",
            "7) electromagnetic tracking\n",
            "8) real - time pcrs\n",
            "9) phylogenomic tracking\n",
            "\n",
            "******************************************************************************************************************\n",
            "\n",
            "Query: What geographic variations are there in the genome of 2019-nCoV?\n",
            "Answers: \n",
            "1) the most likely geographic origin of the new outbreak was the city of wuhan , china\n",
            "2) various countries across the globe\n",
            "3) variations at 1930 positions that together cause 1203 amino acid changes\n",
            "4) primarily wuhan city , hubei province , china , but also bangkok , thailand\n",
            "5) four times more variations\n",
            "\n",
            "******************************************************************************************************************\n",
            "\n",
            "Query: What effors are being done in asia to prevent further outbreaks?\n",
            "Answers: \n",
            "1) government - guided and suppress - and - lift strategies , trigger - based / suppression approaches and alert systems have been employed to guide the adoption and easing of control measures\n",
            "2) \n",
            "3) greater awareness and application of a multisectoral and multidisciplinary approach\n",
            "4) enforce disaster risk management\n",
            "5) declared a phase 3 pandemic alert in the fall of 2005 . early detection is essential to prevent the spread of avian influenza . planning now can be achieved by integrating interventions\n",
            "6) stochastic frontier analysis\n",
            "7) disease control strategies\n",
            "8) porcine epidemic diarrhoea\n",
            "\n",
            "******************************************************************************************************************\n",
            "\n",
            "Query: What drugs or therapies are being investigated?\n",
            "Answers: \n",
            "1) novel experimental therapies\n",
            "2) medical therapies\n",
            "3) biologic therapies\n",
            "4) therapies\n",
            "5) antiviral agents , immunotherapies , and vaccines\n",
            "6) antiviral compounds and immunotherapies\n",
            "7) previously used clinical drugs\n",
            "\n",
            "******************************************************************************************************************\n",
            "\n",
            "Query: Are anti-inflammatory drugs recommended?\n",
            "Answers: \n",
            "1) \n",
            "2) anti - inflammatory drugs inhibit cyclooxygenases ( cox ) , which are involved in the biosynthesis of prostaglandins that promote inflammation . the conventional non - steroidal anti - inflammatory drugs ( nsaids ) are associated with gastric and renal side - effects , as they inhibit both the constitutive cox - 1 and the inducible cox - 2 . the majority of selective cox - 2 inhibitors ( coxibs ) are without gastric side - effects but are associated with cardiac side - effects on long - term use . the search for anti - inflammatory drugs without side - effects\n",
            "3) there are no clear scientific data that preclude the use of non - steroidal anti - inflammatory drugs\n",
            "4) anti - inflammatory and perhaps antiviral actions\n",
            "5) no specific therapy or drug has been formally recommended for use against sars - cov - 2 infection\n",
            "6) without side - effects\n",
            "7) there are no clear scientific data that preclude the use of non ‐ steroidal anti ‐ inflammatory drugs\n",
            "\n",
            "******************************************************************************************************************\n",
            "\n",
            "Query: Which non-pharmaceutical interventions limit tramsission?\n",
            "Answers: \n",
            "1) \n",
            "2) bans of public events or lockdowns\n",
            "3) increasing the vaccination rate from 5 to 11 million people per week could increase the averted burden by more than one third . these findings underscore the importance of maintaining non - pharmaceutical interventions and increasing vaccine administration rates\n",
            "4) sars - cov - 2 virus\n",
            "5) npis ) against within - facility transmission\n",
            "6) vaccines and antiviral medications\n",
            "7) hand and respiratory hygiene , mask wearing and social distancing could help to inform the development of effective public health advice messages . the aim of this synthesis was to explore public perceptions of non - pharmaceutical interventions that aim to reduce the transmission of acute respiratory infections . methods : five online databases ( medline , psycinfo , cinahl , embase and web of science ) were systematically searched . reference lists of articles were also examined . we selected papers that used a qualitative research design to explore perceptions and beliefs about non - pharmaceutical interventions to reduce transmission of acute respiratory infections . we excluded papers that only explored how health professionals or children\n",
            "8) covid - 19\n",
            "9) school closure , setting up a field hospital and community health education\n",
            "10) travel restrictions and contact reductions\n",
            "\n",
            "******************************************************************************************************************\n",
            "\n",
            "Query: What are most important barriers to compliance?\n",
            "Answers: \n",
            "1) knowledge and experience\n",
            "2) [SEP]\n",
            "3) individual - and organizational - level\n",
            "4) hand hygiene ( hh ) being the most important measure to prevent hais , the present study was conducted to assess the gap in knowledge , perceptions , and practices of healthcare providers ( hcps ) regarding hh and also to know the barriers in adherence to hh practices\n",
            "5) community concerns about their use that need to be addressed including the potential for economic consequences\n",
            "6) unseen barriers that can mediate the efficacy of female political leaders\n",
            "7) perceived barriers\n",
            "8) ambiguity , consistency and feasibility of expectations\n",
            "9) knowledge , attitudes , and self - reported behaviors\n",
            "\n",
            "******************************************************************************************************************\n",
            "\n",
            "Query: How does extracorporeal membrane oxygenation affect 2019-nCoV patients?\n",
            "Answers: \n",
            "1) patients were excluded\n",
            "2) \n",
            "3) positive patients\n",
            "4) extracorporeal membrane oxygenation is an option for covid - 19 patients but preparation must be taken to prepare the extracorporeal membrane oxygenation teams to deal with this pandemic and future challenges\n",
            "5) prioritization of children over adults for extracorporeal membrane oxygenation use , institution of do - not - resuscitate orders , and the use of extracorporeal cardiopulmonary resuscitation for coronavirus disease 2019 – positive patients\n",
            "6) significantly shorter in the early tracheostomy group\n",
            "7) prioritization of children over adults for extracorporeal membrane oxygenation use , institution of do - not - resuscitate orders , and the use of extracorporeal cardiopulmonary resuscitation for coronavirus disease 2019 - positive patients\n",
            "\n",
            "******************************************************************************************************************\n",
            "\n",
            "Query: What telemedicine and cybercare methods are most effective?\n",
            "Answers: \n",
            "1)  what telemedicine and cybercare\n",
            "2) implementation of precautions , prevention and treatment\n",
            "3) virtual communication platform affects the patient ‐ physician relationship . methods : between march 2020 and may 2020 , adult cancer patients who conducted at least one successful telemedicine meeting were interviewed by trained medical personnel . the interview was based on validated patient satisfaction questionnaires and focused on patient ‐ physician interaction in relation to the last in ‐ patient visit\n",
            "4) [SEP]\n",
            "5) simulation - based , 8 - hour modular curriculum\n",
            "6) patient - physician interaction in relation to the last in - patient visit\n",
            "7) pubmed , cochrane library , embase , web of science and scopus databases\n",
            "8) implementation\n",
            "9) tele - education\n",
            "10) link patients to specialists\n",
            "\n",
            "******************************************************************************************************************\n",
            "\n",
            "Query: How is artificial intelligence being used in real time health delivery?\n",
            "Answers: \n",
            "1) no projects can yet be used on a large scale in real clinical practice because of the lack of standardized processes\n",
            "2) \n",
            "3) decision - making technologies to handle this virus and help them in getting proper suggestions in real - time to avoid its spread\n",
            "4) help them in getting proper suggestions\n",
            "5) use of a convoluted neural network applied to visual detection of nerves on ultrasound images\n",
            "6) via the assistance of complex mathematical algorithms to formulate computer - based medical decisions\n",
            "7) point - of - care ultrasound\n",
            "8) speech - recognition techniques through a mobile application in analyzing cough sounds of suspected people who previously were healthy , suffering from a respiratory ailment , and actively monitor the progress of their symptoms\n",
            "9) perioperative support\n",
            "\n",
            "******************************************************************************************************************\n",
            "\n",
            "Query: What adjunctive or supportive methods can help patients?\n",
            "Answers: \n",
            "1) invasive ventilation\n",
            "2) intensive care\n",
            "3) public health measures\n",
            "4) adjunctive\n",
            "5) supportive care\n",
            "6) supportive text and references\n",
            "7) supportive\n",
            "8) adjunctive and supportive therapies\n",
            "9) adjunctive pharmacologic interventions\n",
            "\n",
            "******************************************************************************************************************\n",
            "\n",
            "Query: What diagnostic tests (tools) exist or are being developed to detect 2019-nCoV?\n",
            "Answers: \n",
            "1) \n",
            "2) different diagnostic laboratory tests\n",
            "3) high complexity molecular - based laboratory developed tests\n",
            "4) reliable diagnostic methods\n",
            "5) fast and accurate diagnosis tools are important to detect the virus . in this review , we discuss the different diagnostic tests that are currently implemented in laboratories and provide a description of various covid - 19 kits\n",
            "6) different diagnostic tests that are currently being implemented in laboratories\n",
            "7) rapid diagnostic tests that detect antigens or antibodies\n",
            "\n",
            "******************************************************************************************************************\n",
            "\n",
            "Query: What is the immune system response to 2019-nCoV?\n",
            "Answers: \n",
            "1) \n",
            "2) robust humoral and cell - mediated response\n",
            "3) 2019 - ncov - specific antibody and t cell immune response\n",
            "4) essential for 2019 - ncov control and clearance\n",
            "5) inappropriate immune response\n",
            "6) immature immune function\n",
            "\n",
            "******************************************************************************************************************\n",
            "\n",
            "Query: Can personal protective equipment prevent the transmission of 2019-nCoV?\n",
            "Answers: \n",
            "1) \n",
            "2) respirators are more effective than masks in preventing aerosol transmission to hcws\n",
            "3) full gear personal protective equipment is the primary and foremost measure to prevent the contact and transmission of severe acute respiratory syndrome - coronavirus 2 ( sars - cov2 )\n",
            "4) the use of protective equipment and dental office isolation were the major points to avoid the contact between infected and non - infected patients\n",
            "5) personal protective equipment\n",
            "6) to avoid the contact between infected and non - infected patients\n",
            "7) lack of stringent infection control or no proper personal protective equipment available\n",
            "\n",
            "******************************************************************************************************************\n",
            "\n",
            "Query: Can 2019-nCoV infect patients a second time?\n",
            "Answers: \n",
            "1) \n",
            "2) could be the target of 2019 - ncov and sars - cov . sars - cov - related animal model experiments show that it can infect the epithelial cells on the salivary gland duct in chinese rhesus macaques by targeting ace2 . clinical studies confirmed that 2019 - ncov and sars - cov could be detected in saliva of human patients . we hypothesize that the infection of 2019 - ncov and sars - cov will lead to inflammatory pathological lesions in patients ’ target organs , and possibly inflammatory lesions in salivary glands\n",
            "3) will lead to inflammatory pathological lesions in patients ' target organs , and possibly inflammatory lesions in salivary glands\n",
            "4) it can infect people very easily\n",
            "5)  can 2019 - ncov infect patients a second time ? [SEP]\n",
            "6) human ace2 is the receptor\n",
            "7) 2019 - ncov ( sars - cov - 2 ) could be of bat origin but involve other potential intermediate hosts\n",
            "\n",
            "******************************************************************************************************************\n",
            "\n",
            "CPU times: user 42.6 s, sys: 628 ms, total: 43.2 s\n",
            "Wall time: 44.4 s\n"
          ],
          "name": "stdout"
        }
      ]
    },
    {
      "cell_type": "markdown",
      "metadata": {
        "id": "kB5iC-PY_9ia"
      },
      "source": [
        "If we see properly above answers to the query we find that some answers are vague and confusing while others are straightforward and concise. To better understand those vague answers we need the context on which they appear."
      ]
    },
    {
      "cell_type": "code",
      "metadata": {
        "id": "SGLo0W58_5ZK"
      },
      "source": [
        "with open('saved/bm25.pkl','rb') as file:\n",
        "  bm25 = pickle.load(file)"
      ],
      "execution_count": null,
      "outputs": []
    },
    {
      "cell_type": "code",
      "metadata": {
        "id": "tSTcyzA__5eG"
      },
      "source": [
        "query = \"Is the virus transmitted by aerisol, droplets, food, close contact, fecal matter, or water?\"\n",
        "answers = getResult(query)\n",
        "contexts = obtain_all_contexts(query,10)\n",
        "#article_title = contexts_df.title.to_list()\n",
        "#context = contexts_df.abstract.to_list()"
      ],
      "execution_count": null,
      "outputs": []
    },
    {
      "cell_type": "code",
      "metadata": {
        "id": "ZnCbGU9BCJmd",
        "colab": {
          "base_uri": "https://localhost:8080/"
        },
        "outputId": "e8bb27fd-8649-436c-a61e-c7732e4f5dbd"
      },
      "source": [
        "#answers = list(set(answers))\n",
        "answers"
      ],
      "execution_count": null,
      "outputs": [
        {
          "output_type": "execute_result",
          "data": {
            "text/plain": [
              "['either by person - to - person contact or by ingestion of contaminated food or water',\n",
              " 'virus transmission by the airborne route may be both direct and indirect inhalation of infectious droplets or through contact with contaminated fomites',\n",
              " 'it can be transmitted via the fecal - oral / ocular route',\n",
              " 'it can be transmitted via the fecal - oral / ocular route',\n",
              " 'air',\n",
              " 'air',\n",
              " 'droplets',\n",
              " 'droplets',\n",
              " 'viruses are often transmitted via food and the environment',\n",
              " 'the virus has high transmissibility and is rapidly transmitted to people through close contact and droplets from coughing , sneezing and talking loudly , as well as through contact with contaminated objects']"
            ]
          },
          "metadata": {
            "tags": []
          },
          "execution_count": 34
        }
      ]
    },
    {
      "cell_type": "code",
      "metadata": {
        "id": "ULDS4BjwCaO1",
        "colab": {
          "base_uri": "https://localhost:8080/"
        },
        "outputId": "4f54ad10-e062-4973-f327-b3aa3920d726"
      },
      "source": [
        "#contexts = list(set(contexts))\n",
        "contexts"
      ],
      "execution_count": null,
      "outputs": [
        {
          "output_type": "execute_result",
          "data": {
            "text/plain": [
              "['Enteric viruses are those human viruses that are primarily transmitted by the fecal-oral route, either by person-to-person contact or by ingestion of contaminated food or water. The importance of viral foodborne diseases is increasingly being recognized, and several international organizations have found that there is an upward trend in their incidence. Thus, in this review, state-of-the-art information regarding virus persistence in food and the environment is compiled.',\n",
              " 'Pathogenic microorganisms usually originate from an infected host or directly from the environment; however, only a small proportion of these microbes cause infection. This chapter discusses the pathogens that are transmitted through the environment such as bacteria, viruses, and protozoa. Many human pathogens can be transmitted only by direct or close contact with an infected person or animal such as herpesvirus. Virus transmission by the airborne route may be both direct and indirect inhalation of infectious droplets or through contact with contaminated fomites. Water-borne diseases—such as yellow fever, dengue, filariasis, malaria, onchocerciasis, and sleeping sicknessare transmitted by insects that breed in water or live near water. The common bacterial pathogens transmitted through water include Salmonella, Escherichia coli, Shigella, Campylobacter, Yersinia, Vibrio, Helicobacter, and Legionella. Opportunistic pathogens are also numerous in the environment, and the most important opportunistic pathogen is Pseudomonas aeruginosa. Viruses are a leading cause of gastroenteritis and water-borne outbreaks may be caused by norovirus, hepatitis A virus, Coxsackie virus, echovirus, and adenoviruses. Respiratory diseases are also associated with a large number of viruses such as rhinoviruses, coronaviruses, parainfluenza viruses, respiratory syncytial virus (RSV), influenza virus, and adenovirus. Generally, viral and protozoan pathogens survive longer in the environment than enteric bacterial pathogens.',\n",
              " 'The recent detection of SARS-CoV-2 RNA in feces has led to speculation that it can be transmitted via the fecal-oral/ocular route. This review aims to critically evaluate the incidence of gastrointestinal (GI) symptoms, the quantity and infectivity of SARS-CoV-2 in feces and urine, and whether these pose an infection risk in sanitary settings, sewage networks, wastewater treatment plants, and the wider environment (e.g. rivers, lakes and marine waters). A review of 48 independent studies revealed that severe GI dysfunction is only evident in a small number of COVID-19 cases, with 11 ± 2% exhibiting diarrhea and 12 ± 3% exhibiting vomiting and nausea. In addition to these cases, SARS-CoV-2 RNA can be detected in feces from some asymptomatic, mildly- and pre-symptomatic individuals. Fecal shedding of the virus peaks in the symptomatic period and can persist for several weeks, but with declining abundances in the post-symptomatic phase. SARS-CoV-2 RNA is occasionally detected in urine, but reports in fecal samples are more frequent. The abundance of the virus genetic material in both urine (ca. 10(2)–10(5) gc/ml) and feces (ca. 10(2)–10(7) gc/ml) is much lower than in nasopharyngeal fluids (ca. 10(5)–10(11) gc/ml). There is strong evidence of multiplication of SARS-CoV-2 in the gut and infectious virus has occasionally been recovered from both urine and stool samples. The level and infectious capability of SARS-CoV-2 in vomit remain unknown. In comparison to enteric viruses transmitted via the fecal-oral route (e.g. norovirus, adenovirus), the likelihood of SARS-CoV-2 being transmitted via feces or urine appears much lower due to the lower relative amounts of virus present in feces/urine. The biggest risk of transmission will occur in clinical and care home settings where secondary handling of people and urine/fecal matter occurs. In addition, while SARS-CoV-2 RNA genetic material can be detected by in wastewater, this signal is greatly reduced by conventional treatment. Our analysis also suggests the likelihood of infection due to contact with sewage-contaminated water (e.g. swimming, surfing, angling) or food (e.g. salads, shellfish) is extremely low or negligible based on very low predicted abundances and limited environmental survival of SARS-CoV-2. These conclusions are corroborated by the fact that tens of million cases of COVID-19 have occurred globally, but exposure to feces or wastewater has never been implicated as a transmission vector.',\n",
              " 'The recent detection of SARS-CoV-2 RNA in feces has led to speculation that it can be transmitted via the fecal-oral/ocular route. This review aims to critically evaluate the incidence of gastrointestinal (GI) symptoms, the quantity and infectivity of SARS-CoV-2 in feces and urine, and whether these pose an infection risk in sanitary settings, sewage networks, wastewater treatment plants, and the wider environment (e.g. rivers, lakes and marine waters). A review of 48 independent studies revealed that severe GI dysfunction is only evident in a small number of COVID-19 cases, with 11 ± 2% exhibiting diarrhea and 12 ± 3% exhibiting vomiting and nausea. In addition to these cases, SARS-CoV-2 RNA can be detected in feces from some asymptomatic, mildly- and pre-symptomatic individuals. Fecal shedding of the virus peaks in the symptomatic period and can persist for several weeks, but with declining abundances in the post-symptomatic phase. SARS-CoV-2 RNA is occasionally detected in urine, but reports in fecal samples are more frequent. The abundance of the virus genetic material in both urine (ca. 102-105 gc/ml) and feces (ca. 102-107 gc/ml) is much lower than in nasopharyngeal fluids (ca. 105-1011 gc/ml). There is strong evidence of multiplication of SARS-CoV-2 in the gut and infectious virus has occasionally been recovered from both urine and stool samples. The level and infectious capability of SARS-CoV-2 in vomit remain unknown. In comparison to enteric viruses transmitted via the fecal-oral route (e.g. norovirus, adenovirus), the likelihood of SARS-CoV-2 being transmitted via feces or urine appears much lower due to the lower relative amounts of virus present in feces/urine. The biggest risk of transmission will occur in clinical and care home settings where secondary handling of people and urine/fecal matter occurs. In addition, while SARS-CoV-2 RNA genetic material can be detected by in wastewater, this signal is greatly reduced by conventional treatment. Our analysis also suggests the likelihood of infection due to contact with sewage-contaminated water (e.g. swimming, surfing, angling) or food (e.g. salads, shellfish) is extremely low or negligible based on very low predicted abundances and limited environmental survival of SARS-CoV-2. These conclusions are corroborated by the fact that tens of million cases of COVID-19 have occurred globally, but exposure to feces or wastewater has never been implicated as a transmission vector.',\n",
              " 'Some infections, including e.g. influenza and currently active COVID 19, may be transmitted via air during sneezing, coughing, and talking. This pathway occurs via diffusion and gravity-induced drift of single virions and respiratory droplets consisting primarily of water, including small fraction of nonvolatile matter, and containing virions. These processes are accompanied by water evaporation resulting in reduction of the droplet size. The manifold of information concerning these steps is presented in textbooks and articles not related to virology and the focus is there frequently on biologically irrelevant conditions and/or droplet sizes. In this brief review, we systematically describe the behavior of virions and virion-carrying droplets in air with emphasis on various regimes of diffusion, drift, and evaporation, and estimate the rates of all these steps under virologically relevant conditions. In addition, we discuss the kinetic aspects of the first steps of infection after attachment of virions or virion-carrying droplets to the epithelium, i.e., virion diffusion in the mucus and periciliary layers, penetration into the cells, and the early stage of replication. The presentation is oriented to virologists who are interested in the corresponding physics and to physicists who are interested in application of the physics to virology.',\n",
              " 'Some infections, including e.g. influenza and currently active COVID 19, may be transmitted via air during sneezing, coughing, and talking. This pathway occurs via diffusion and gravity-induced drift of single virions and respiratory droplets consisting primarily of water, including small fraction of nonvolatile matter, and containing virions. These processes are accompanied by water evaporation resulting in reduction of the droplet size. The manifold of information concerning these steps is presented in textbooks and articles not related to virology and the focus is there frequently on biologically irrelevant conditions and/or droplet sizes. In this brief review, we systematically describe the behaviour of virions and virion-carrying droplets in air with emphasis on various regimes of diffusion, drift, and evaporation, and estimate the rates of all these steps under virologically relevant conditions. In addition, we discuss the kinetic aspects of the first steps of infection after attachment of virions or virion-carrying droplets to the epithelium, i.e., virion diffusion in the mucus and periciliary layers, penetration into the cells, and the early stage of replication. The presentation is oriented to virologists who are interested in the corresponding physics and to physicists who are in interested in application of the physics to virology.',\n",
              " 'SARS-CoV-2, a RNA virus that emerged in December 2019 in the city of Wuhan in China and took hold of the whole world, affects children as well as all age groups. In our country, we started to observe the first cases by March 2020. SARS-CoV-2, which is transmitted by droplets and by way of contact with surfaces contaminated by these droplets, is generally transmitted to children from adults through close contact. There is no proven information about other transmission routes such as fecal-oral transmission. Similar to adults, the primary symptoms at presentation include fever, cough, sore throat, malaise, nasal discharge, and rarely, vomiting and diarrhea in children. Although the majority of pediatric patients are asymptomatic or have a mild clinical course, severe cases have been reported in children with underlying chronic diseases. There is currently no specific antiviral treatment against the SARS-CoV-2 virus. Supportive treatment is recommended in children with a mild course, and some treatments are recommended in children with comorbidities or in children who are observed to have a more severe course. Asymptomatic pediatric patients or pediatric patients who have a mild course constitute an important group in terms of transmission of the infection to the advanced age group who carry high risk. Prevention of infection is very important in terms of reducing new cases and alleviating the load on the healthcare system. In order to prevent transmission of SARS-CoV-2, hygienic rules should be pursued in the community, social distancing should be observed, and the family members and contacts of patients who have been diagnosed should be screened and isolated.',\n",
              " 'SARS-CoV-2, a RNA virus that emerged in December 2019 in the city of Wuhan in China and took hold of the whole world, affects children as well as all age groups. In our country, we started to observe the first cases by March 2020. SARS-CoV-2, which is transmitted by droplets and by way of contact with surfaces contaminated by these droplets, is generally transmitted to children from adults through close contact. There is no proven information about other transmission routes such as fecal-oral transmission. Similar to adults, the primary symptoms at presentation include fever, cough, sore throat, malaise, nasal dis-charge, and rarely, vomiting and diarrhea in children. Although the majority of pediatric patients are asymptomatic or have a mild clinical course, severe cases have been reported in children with underlying chronic diseases. There is currently no specific antiviral treatment against the SARS-CoV-2 virus. Supportive treatment is recommended in children with a mild course, and some treatments are recommended in children with comorbidities or in children who are observed to have a more severe course. Asymptomatic pediatric patients or pediatric patients who have a mild course constitute an important group in terms of transmission of the infection to the advanced age group who carry high risk. Prevention of infection is very important in terms of reducing new cases and alleviating the load on the health-care system. In order to prevent transmission of SARS-CoV-2, hygienic rules should be pursued in the community, social distancing should be observed, and the family members and contacts of patients who have been diagnosed should be screened and isolated.',\n",
              " 'Viruses are often transmitted via food and the environment. Contamination may be controlled either by preventing its occurrence or by inactivating the contaminating virus. The majority of agents transmitted in this way are human enteric viruses, produced either in the intestines or the liver. They are shed in human feces (noroviruses also in vomitus) in a broad range of circumstances, and they are relatively stable outside the host. Non-enteric viruses are less often transmitted via foods and are generally less environmentally stable. Insofar as vaccines are available, they are able to prevent fecal shedding. Viruses shed in feces via the water-carriage toilet may be eliminated by proper treatment and disinfection of the wastewater. In the foods context, the most effective antiviral measures are cooking and hand washing. Detection methods are most useful after the fact, in investigating outbreaks and devising preventive measures.',\n",
              " 'SARS-CoV-2 in bats was transmitted to humans at a live and wet animal market in China through the intermediate host, creating COVID-19. Viral, environmental and host factors play roles in virus infection and disease. The virus has high transmissibility and is rapidly transmitted to people through close contact and droplets from coughing, sneezing and talking loudly, as well as through contact with contaminated objects. As crowding is an environmental risk factor for contamination, its transmission is high among patients and staff in hospital and also in elderly-care centers. It is more common in the elderly, in men, and subjects with diabetes mellitus, hypertension, cardiovascular disease, and malignancy.']"
            ]
          },
          "metadata": {
            "tags": []
          },
          "execution_count": 35
        }
      ]
    },
    {
      "cell_type": "code",
      "metadata": {
        "id": "f1eqAd2NCaT-"
      },
      "source": [
        ""
      ],
      "execution_count": null,
      "outputs": []
    },
    {
      "cell_type": "code",
      "metadata": {
        "colab": {
          "base_uri": "https://localhost:8080/"
        },
        "id": "nlhDigcql_XX",
        "outputId": "3574c071-d425-49c7-80f6-b29449734073"
      },
      "source": [
        "for answer, context in zip(answers,contexts):\n",
        "  print('answers: ',answers)\n",
        "  print('/n')\n",
        "  print('context: ', context)\n",
        "  print('\\n***************************************************************************************\\n')"
      ],
      "execution_count": null,
      "outputs": [
        {
          "output_type": "stream",
          "text": [
            "answers:  ['either by person - to - person contact or by ingestion of contaminated food or water', 'virus transmission by the airborne route may be both direct and indirect inhalation of infectious droplets or through contact with contaminated fomites', 'it can be transmitted via the fecal - oral / ocular route', 'it can be transmitted via the fecal - oral / ocular route', 'air', 'air', 'droplets', 'droplets', 'viruses are often transmitted via food and the environment', 'the virus has high transmissibility and is rapidly transmitted to people through close contact and droplets from coughing , sneezing and talking loudly , as well as through contact with contaminated objects']\n",
            "/n\n",
            "context:  Enteric viruses are those human viruses that are primarily transmitted by the fecal-oral route, either by person-to-person contact or by ingestion of contaminated food or water. The importance of viral foodborne diseases is increasingly being recognized, and several international organizations have found that there is an upward trend in their incidence. Thus, in this review, state-of-the-art information regarding virus persistence in food and the environment is compiled.\n",
            "\n",
            "***************************************************************************************\n",
            "\n",
            "answers:  ['either by person - to - person contact or by ingestion of contaminated food or water', 'virus transmission by the airborne route may be both direct and indirect inhalation of infectious droplets or through contact with contaminated fomites', 'it can be transmitted via the fecal - oral / ocular route', 'it can be transmitted via the fecal - oral / ocular route', 'air', 'air', 'droplets', 'droplets', 'viruses are often transmitted via food and the environment', 'the virus has high transmissibility and is rapidly transmitted to people through close contact and droplets from coughing , sneezing and talking loudly , as well as through contact with contaminated objects']\n",
            "/n\n",
            "context:  Pathogenic microorganisms usually originate from an infected host or directly from the environment; however, only a small proportion of these microbes cause infection. This chapter discusses the pathogens that are transmitted through the environment such as bacteria, viruses, and protozoa. Many human pathogens can be transmitted only by direct or close contact with an infected person or animal such as herpesvirus. Virus transmission by the airborne route may be both direct and indirect inhalation of infectious droplets or through contact with contaminated fomites. Water-borne diseases—such as yellow fever, dengue, filariasis, malaria, onchocerciasis, and sleeping sicknessare transmitted by insects that breed in water or live near water. The common bacterial pathogens transmitted through water include Salmonella, Escherichia coli, Shigella, Campylobacter, Yersinia, Vibrio, Helicobacter, and Legionella. Opportunistic pathogens are also numerous in the environment, and the most important opportunistic pathogen is Pseudomonas aeruginosa. Viruses are a leading cause of gastroenteritis and water-borne outbreaks may be caused by norovirus, hepatitis A virus, Coxsackie virus, echovirus, and adenoviruses. Respiratory diseases are also associated with a large number of viruses such as rhinoviruses, coronaviruses, parainfluenza viruses, respiratory syncytial virus (RSV), influenza virus, and adenovirus. Generally, viral and protozoan pathogens survive longer in the environment than enteric bacterial pathogens.\n",
            "\n",
            "***************************************************************************************\n",
            "\n",
            "answers:  ['either by person - to - person contact or by ingestion of contaminated food or water', 'virus transmission by the airborne route may be both direct and indirect inhalation of infectious droplets or through contact with contaminated fomites', 'it can be transmitted via the fecal - oral / ocular route', 'it can be transmitted via the fecal - oral / ocular route', 'air', 'air', 'droplets', 'droplets', 'viruses are often transmitted via food and the environment', 'the virus has high transmissibility and is rapidly transmitted to people through close contact and droplets from coughing , sneezing and talking loudly , as well as through contact with contaminated objects']\n",
            "/n\n",
            "context:  The recent detection of SARS-CoV-2 RNA in feces has led to speculation that it can be transmitted via the fecal-oral/ocular route. This review aims to critically evaluate the incidence of gastrointestinal (GI) symptoms, the quantity and infectivity of SARS-CoV-2 in feces and urine, and whether these pose an infection risk in sanitary settings, sewage networks, wastewater treatment plants, and the wider environment (e.g. rivers, lakes and marine waters). A review of 48 independent studies revealed that severe GI dysfunction is only evident in a small number of COVID-19 cases, with 11 ± 2% exhibiting diarrhea and 12 ± 3% exhibiting vomiting and nausea. In addition to these cases, SARS-CoV-2 RNA can be detected in feces from some asymptomatic, mildly- and pre-symptomatic individuals. Fecal shedding of the virus peaks in the symptomatic period and can persist for several weeks, but with declining abundances in the post-symptomatic phase. SARS-CoV-2 RNA is occasionally detected in urine, but reports in fecal samples are more frequent. The abundance of the virus genetic material in both urine (ca. 10(2)–10(5) gc/ml) and feces (ca. 10(2)–10(7) gc/ml) is much lower than in nasopharyngeal fluids (ca. 10(5)–10(11) gc/ml). There is strong evidence of multiplication of SARS-CoV-2 in the gut and infectious virus has occasionally been recovered from both urine and stool samples. The level and infectious capability of SARS-CoV-2 in vomit remain unknown. In comparison to enteric viruses transmitted via the fecal-oral route (e.g. norovirus, adenovirus), the likelihood of SARS-CoV-2 being transmitted via feces or urine appears much lower due to the lower relative amounts of virus present in feces/urine. The biggest risk of transmission will occur in clinical and care home settings where secondary handling of people and urine/fecal matter occurs. In addition, while SARS-CoV-2 RNA genetic material can be detected by in wastewater, this signal is greatly reduced by conventional treatment. Our analysis also suggests the likelihood of infection due to contact with sewage-contaminated water (e.g. swimming, surfing, angling) or food (e.g. salads, shellfish) is extremely low or negligible based on very low predicted abundances and limited environmental survival of SARS-CoV-2. These conclusions are corroborated by the fact that tens of million cases of COVID-19 have occurred globally, but exposure to feces or wastewater has never been implicated as a transmission vector.\n",
            "\n",
            "***************************************************************************************\n",
            "\n",
            "answers:  ['either by person - to - person contact or by ingestion of contaminated food or water', 'virus transmission by the airborne route may be both direct and indirect inhalation of infectious droplets or through contact with contaminated fomites', 'it can be transmitted via the fecal - oral / ocular route', 'it can be transmitted via the fecal - oral / ocular route', 'air', 'air', 'droplets', 'droplets', 'viruses are often transmitted via food and the environment', 'the virus has high transmissibility and is rapidly transmitted to people through close contact and droplets from coughing , sneezing and talking loudly , as well as through contact with contaminated objects']\n",
            "/n\n",
            "context:  The recent detection of SARS-CoV-2 RNA in feces has led to speculation that it can be transmitted via the fecal-oral/ocular route. This review aims to critically evaluate the incidence of gastrointestinal (GI) symptoms, the quantity and infectivity of SARS-CoV-2 in feces and urine, and whether these pose an infection risk in sanitary settings, sewage networks, wastewater treatment plants, and the wider environment (e.g. rivers, lakes and marine waters). A review of 48 independent studies revealed that severe GI dysfunction is only evident in a small number of COVID-19 cases, with 11 ± 2% exhibiting diarrhea and 12 ± 3% exhibiting vomiting and nausea. In addition to these cases, SARS-CoV-2 RNA can be detected in feces from some asymptomatic, mildly- and pre-symptomatic individuals. Fecal shedding of the virus peaks in the symptomatic period and can persist for several weeks, but with declining abundances in the post-symptomatic phase. SARS-CoV-2 RNA is occasionally detected in urine, but reports in fecal samples are more frequent. The abundance of the virus genetic material in both urine (ca. 102-105 gc/ml) and feces (ca. 102-107 gc/ml) is much lower than in nasopharyngeal fluids (ca. 105-1011 gc/ml). There is strong evidence of multiplication of SARS-CoV-2 in the gut and infectious virus has occasionally been recovered from both urine and stool samples. The level and infectious capability of SARS-CoV-2 in vomit remain unknown. In comparison to enteric viruses transmitted via the fecal-oral route (e.g. norovirus, adenovirus), the likelihood of SARS-CoV-2 being transmitted via feces or urine appears much lower due to the lower relative amounts of virus present in feces/urine. The biggest risk of transmission will occur in clinical and care home settings where secondary handling of people and urine/fecal matter occurs. In addition, while SARS-CoV-2 RNA genetic material can be detected by in wastewater, this signal is greatly reduced by conventional treatment. Our analysis also suggests the likelihood of infection due to contact with sewage-contaminated water (e.g. swimming, surfing, angling) or food (e.g. salads, shellfish) is extremely low or negligible based on very low predicted abundances and limited environmental survival of SARS-CoV-2. These conclusions are corroborated by the fact that tens of million cases of COVID-19 have occurred globally, but exposure to feces or wastewater has never been implicated as a transmission vector.\n",
            "\n",
            "***************************************************************************************\n",
            "\n",
            "answers:  ['either by person - to - person contact or by ingestion of contaminated food or water', 'virus transmission by the airborne route may be both direct and indirect inhalation of infectious droplets or through contact with contaminated fomites', 'it can be transmitted via the fecal - oral / ocular route', 'it can be transmitted via the fecal - oral / ocular route', 'air', 'air', 'droplets', 'droplets', 'viruses are often transmitted via food and the environment', 'the virus has high transmissibility and is rapidly transmitted to people through close contact and droplets from coughing , sneezing and talking loudly , as well as through contact with contaminated objects']\n",
            "/n\n",
            "context:  Some infections, including e.g. influenza and currently active COVID 19, may be transmitted via air during sneezing, coughing, and talking. This pathway occurs via diffusion and gravity-induced drift of single virions and respiratory droplets consisting primarily of water, including small fraction of nonvolatile matter, and containing virions. These processes are accompanied by water evaporation resulting in reduction of the droplet size. The manifold of information concerning these steps is presented in textbooks and articles not related to virology and the focus is there frequently on biologically irrelevant conditions and/or droplet sizes. In this brief review, we systematically describe the behavior of virions and virion-carrying droplets in air with emphasis on various regimes of diffusion, drift, and evaporation, and estimate the rates of all these steps under virologically relevant conditions. In addition, we discuss the kinetic aspects of the first steps of infection after attachment of virions or virion-carrying droplets to the epithelium, i.e., virion diffusion in the mucus and periciliary layers, penetration into the cells, and the early stage of replication. The presentation is oriented to virologists who are interested in the corresponding physics and to physicists who are interested in application of the physics to virology.\n",
            "\n",
            "***************************************************************************************\n",
            "\n",
            "answers:  ['either by person - to - person contact or by ingestion of contaminated food or water', 'virus transmission by the airborne route may be both direct and indirect inhalation of infectious droplets or through contact with contaminated fomites', 'it can be transmitted via the fecal - oral / ocular route', 'it can be transmitted via the fecal - oral / ocular route', 'air', 'air', 'droplets', 'droplets', 'viruses are often transmitted via food and the environment', 'the virus has high transmissibility and is rapidly transmitted to people through close contact and droplets from coughing , sneezing and talking loudly , as well as through contact with contaminated objects']\n",
            "/n\n",
            "context:  Some infections, including e.g. influenza and currently active COVID 19, may be transmitted via air during sneezing, coughing, and talking. This pathway occurs via diffusion and gravity-induced drift of single virions and respiratory droplets consisting primarily of water, including small fraction of nonvolatile matter, and containing virions. These processes are accompanied by water evaporation resulting in reduction of the droplet size. The manifold of information concerning these steps is presented in textbooks and articles not related to virology and the focus is there frequently on biologically irrelevant conditions and/or droplet sizes. In this brief review, we systematically describe the behaviour of virions and virion-carrying droplets in air with emphasis on various regimes of diffusion, drift, and evaporation, and estimate the rates of all these steps under virologically relevant conditions. In addition, we discuss the kinetic aspects of the first steps of infection after attachment of virions or virion-carrying droplets to the epithelium, i.e., virion diffusion in the mucus and periciliary layers, penetration into the cells, and the early stage of replication. The presentation is oriented to virologists who are interested in the corresponding physics and to physicists who are in interested in application of the physics to virology.\n",
            "\n",
            "***************************************************************************************\n",
            "\n",
            "answers:  ['either by person - to - person contact or by ingestion of contaminated food or water', 'virus transmission by the airborne route may be both direct and indirect inhalation of infectious droplets or through contact with contaminated fomites', 'it can be transmitted via the fecal - oral / ocular route', 'it can be transmitted via the fecal - oral / ocular route', 'air', 'air', 'droplets', 'droplets', 'viruses are often transmitted via food and the environment', 'the virus has high transmissibility and is rapidly transmitted to people through close contact and droplets from coughing , sneezing and talking loudly , as well as through contact with contaminated objects']\n",
            "/n\n",
            "context:  SARS-CoV-2, a RNA virus that emerged in December 2019 in the city of Wuhan in China and took hold of the whole world, affects children as well as all age groups. In our country, we started to observe the first cases by March 2020. SARS-CoV-2, which is transmitted by droplets and by way of contact with surfaces contaminated by these droplets, is generally transmitted to children from adults through close contact. There is no proven information about other transmission routes such as fecal-oral transmission. Similar to adults, the primary symptoms at presentation include fever, cough, sore throat, malaise, nasal discharge, and rarely, vomiting and diarrhea in children. Although the majority of pediatric patients are asymptomatic or have a mild clinical course, severe cases have been reported in children with underlying chronic diseases. There is currently no specific antiviral treatment against the SARS-CoV-2 virus. Supportive treatment is recommended in children with a mild course, and some treatments are recommended in children with comorbidities or in children who are observed to have a more severe course. Asymptomatic pediatric patients or pediatric patients who have a mild course constitute an important group in terms of transmission of the infection to the advanced age group who carry high risk. Prevention of infection is very important in terms of reducing new cases and alleviating the load on the healthcare system. In order to prevent transmission of SARS-CoV-2, hygienic rules should be pursued in the community, social distancing should be observed, and the family members and contacts of patients who have been diagnosed should be screened and isolated.\n",
            "\n",
            "***************************************************************************************\n",
            "\n",
            "answers:  ['either by person - to - person contact or by ingestion of contaminated food or water', 'virus transmission by the airborne route may be both direct and indirect inhalation of infectious droplets or through contact with contaminated fomites', 'it can be transmitted via the fecal - oral / ocular route', 'it can be transmitted via the fecal - oral / ocular route', 'air', 'air', 'droplets', 'droplets', 'viruses are often transmitted via food and the environment', 'the virus has high transmissibility and is rapidly transmitted to people through close contact and droplets from coughing , sneezing and talking loudly , as well as through contact with contaminated objects']\n",
            "/n\n",
            "context:  SARS-CoV-2, a RNA virus that emerged in December 2019 in the city of Wuhan in China and took hold of the whole world, affects children as well as all age groups. In our country, we started to observe the first cases by March 2020. SARS-CoV-2, which is transmitted by droplets and by way of contact with surfaces contaminated by these droplets, is generally transmitted to children from adults through close contact. There is no proven information about other transmission routes such as fecal-oral transmission. Similar to adults, the primary symptoms at presentation include fever, cough, sore throat, malaise, nasal dis-charge, and rarely, vomiting and diarrhea in children. Although the majority of pediatric patients are asymptomatic or have a mild clinical course, severe cases have been reported in children with underlying chronic diseases. There is currently no specific antiviral treatment against the SARS-CoV-2 virus. Supportive treatment is recommended in children with a mild course, and some treatments are recommended in children with comorbidities or in children who are observed to have a more severe course. Asymptomatic pediatric patients or pediatric patients who have a mild course constitute an important group in terms of transmission of the infection to the advanced age group who carry high risk. Prevention of infection is very important in terms of reducing new cases and alleviating the load on the health-care system. In order to prevent transmission of SARS-CoV-2, hygienic rules should be pursued in the community, social distancing should be observed, and the family members and contacts of patients who have been diagnosed should be screened and isolated.\n",
            "\n",
            "***************************************************************************************\n",
            "\n",
            "answers:  ['either by person - to - person contact or by ingestion of contaminated food or water', 'virus transmission by the airborne route may be both direct and indirect inhalation of infectious droplets or through contact with contaminated fomites', 'it can be transmitted via the fecal - oral / ocular route', 'it can be transmitted via the fecal - oral / ocular route', 'air', 'air', 'droplets', 'droplets', 'viruses are often transmitted via food and the environment', 'the virus has high transmissibility and is rapidly transmitted to people through close contact and droplets from coughing , sneezing and talking loudly , as well as through contact with contaminated objects']\n",
            "/n\n",
            "context:  Viruses are often transmitted via food and the environment. Contamination may be controlled either by preventing its occurrence or by inactivating the contaminating virus. The majority of agents transmitted in this way are human enteric viruses, produced either in the intestines or the liver. They are shed in human feces (noroviruses also in vomitus) in a broad range of circumstances, and they are relatively stable outside the host. Non-enteric viruses are less often transmitted via foods and are generally less environmentally stable. Insofar as vaccines are available, they are able to prevent fecal shedding. Viruses shed in feces via the water-carriage toilet may be eliminated by proper treatment and disinfection of the wastewater. In the foods context, the most effective antiviral measures are cooking and hand washing. Detection methods are most useful after the fact, in investigating outbreaks and devising preventive measures.\n",
            "\n",
            "***************************************************************************************\n",
            "\n",
            "answers:  ['either by person - to - person contact or by ingestion of contaminated food or water', 'virus transmission by the airborne route may be both direct and indirect inhalation of infectious droplets or through contact with contaminated fomites', 'it can be transmitted via the fecal - oral / ocular route', 'it can be transmitted via the fecal - oral / ocular route', 'air', 'air', 'droplets', 'droplets', 'viruses are often transmitted via food and the environment', 'the virus has high transmissibility and is rapidly transmitted to people through close contact and droplets from coughing , sneezing and talking loudly , as well as through contact with contaminated objects']\n",
            "/n\n",
            "context:  SARS-CoV-2 in bats was transmitted to humans at a live and wet animal market in China through the intermediate host, creating COVID-19. Viral, environmental and host factors play roles in virus infection and disease. The virus has high transmissibility and is rapidly transmitted to people through close contact and droplets from coughing, sneezing and talking loudly, as well as through contact with contaminated objects. As crowding is an environmental risk factor for contamination, its transmission is high among patients and staff in hospital and also in elderly-care centers. It is more common in the elderly, in men, and subjects with diabetes mellitus, hypertension, cardiovascular disease, and malignancy.\n",
            "\n",
            "***************************************************************************************\n",
            "\n"
          ],
          "name": "stdout"
        }
      ]
    },
    {
      "cell_type": "code",
      "metadata": {
        "id": "fjFgRQfpl_cW"
      },
      "source": [
        ""
      ],
      "execution_count": null,
      "outputs": []
    }
  ]
}